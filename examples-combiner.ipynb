{
 "cells": [
  {
   "cell_type": "markdown",
   "metadata": {},
   "source": [
    "# Data Engineering in Python with databolt  - Identify and analyze join problems (d6tlib/d6tjoin.utils)\n",
    "\n",
    "Automatically combine multiple files into one by stacking them together. Works for .xls, .csv, .txt.\n",
    "\n",
    "## Introduction\n",
    "\n",
    "Vendors often send large datasets in multiple files. Often there are missing and misaligned columns between files that have to be manually cleaned. With DataBolt File Combiner you can easily stack them together into one dataframe.\n",
    "\n",
    "Features include:\n",
    "* Quickly check columns for consistency across files\n",
    "* Fix added/missing columns\n",
    "* Fix renamed columns\n",
    "* Check Excel tabs for consistency across files\n",
    "* Excel to CSV converter (incl multi-sheet support)\n",
    "* Out of core functionality to process large files\n",
    "* Export to CSV, pandas, SQL\n",
    "\n",
    "In this workbook we will demonstrate the usage of the d6tstack library."
   ]
  },
  {
   "cell_type": "code",
   "execution_count": 53,
   "metadata": {
    "collapsed": true
   },
   "outputs": [],
   "source": [
    "import importlib\n",
    "import pandas as pd\n",
    "import glob\n",
    "\n",
    "import d6tstack.combine_csv as d6tc"
   ]
  },
  {
   "cell_type": "markdown",
   "metadata": {},
   "source": [
    "## Get sample data\n",
    "\n",
    "We've created some dummy sample data which you can download. "
   ]
  },
  {
   "cell_type": "code",
   "execution_count": 54,
   "metadata": {
    "collapsed": true
   },
   "outputs": [],
   "source": [
    "import urllib.request\n",
    "cfg_fname_sample = 'test-data.zip'\n",
    "urllib.request.urlretrieve(\"https://github.com/d6t/d6tstack/raw/master/\"+cfg_fname_sample, cfg_fname_sample)\n",
    "import zipfile\n",
    "zip_ref = zipfile.ZipFile(cfg_fname_sample, 'r')\n",
    "zip_ref.extractall('.')\n",
    "zip_ref.close()"
   ]
  },
  {
   "cell_type": "markdown",
   "metadata": {},
   "source": [
    "## Use Case: Checking Column Consistency\n",
    "\n",
    "Let's say you receive a bunch of csv files you want to ingest them, say for example into pandas, dask, pyspark, database."
   ]
  },
  {
   "cell_type": "code",
   "execution_count": 55,
   "metadata": {
    "scrolled": true
   },
   "outputs": [
    {
     "name": "stdout",
     "output_type": "stream",
     "text": [
      "['test-data/input/test-data-input-csv-clean-mar.csv', 'test-data/input/test-data-input-csv-clean-feb.csv', 'test-data/input/test-data-input-csv-clean-jan.csv']\n"
     ]
    }
   ],
   "source": [
    "cfg_fnames = list(glob.glob('test-data/input/test-data-input-csv-clean-*.csv'))\n",
    "print(cfg_fnames)"
   ]
  },
  {
   "cell_type": "markdown",
   "metadata": {},
   "source": [
    "### Check column consistency across all files\n",
    "\n",
    "Even if you think the files have a consistent column layout, it worthwhile using `d6tstack` to assert that that is actually the case. It's very quick to do even with very many large files!"
   ]
  },
  {
   "cell_type": "code",
   "execution_count": 56,
   "metadata": {
    "collapsed": true
   },
   "outputs": [],
   "source": [
    "# get previews\n",
    "c = d6tc.CombinerCSV(cfg_fnames, all_strings=True) # all_strings=True makes reading faster\n",
    "col_preview = c.preview_columns()"
   ]
  },
  {
   "cell_type": "code",
   "execution_count": 57,
   "metadata": {},
   "outputs": [
    {
     "name": "stdout",
     "output_type": "stream",
     "text": [
      "all columns equal? True\n",
      "\n",
      "which columns are present in which files?\n",
      "\n",
      "                            filename  cost  date profit sales\n",
      "0  test-data-input-csv-clean-mar.csv  True  True   True  True\n",
      "1  test-data-input-csv-clean-feb.csv  True  True   True  True\n",
      "2  test-data-input-csv-clean-jan.csv  True  True   True  True\n",
      "\n",
      "in what order do columns appear in the files?\n",
      "\n",
      "                            filename cost date profit sales\n",
      "0  test-data-input-csv-clean-mar.csv    0    1      2     3\n",
      "1  test-data-input-csv-clean-feb.csv    0    1      2     3\n",
      "2  test-data-input-csv-clean-jan.csv    0    1      2     3\n"
     ]
    }
   ],
   "source": [
    "print('all columns equal?', col_preview['is_all_equal'])\n",
    "print('')\n",
    "print('which columns are present in which files?')\n",
    "print('')\n",
    "print(col_preview['df_columns_present'].reset_index(drop=True))\n",
    "print('')\n",
    "print('in what order do columns appear in the files?')\n",
    "print('')\n",
    "print(col_preview['df_columns_order'].reset_index(drop=True))"
   ]
  },
  {
   "cell_type": "markdown",
   "metadata": {},
   "source": [
    "### Preview Combined Data\n",
    "\n",
    "You can see a preview of what the combined data from all files will look like."
   ]
  },
  {
   "cell_type": "code",
   "execution_count": 58,
   "metadata": {},
   "outputs": [
    {
     "data": {
      "text/html": [
       "<div>\n",
       "<style scoped>\n",
       "    .dataframe tbody tr th:only-of-type {\n",
       "        vertical-align: middle;\n",
       "    }\n",
       "\n",
       "    .dataframe tbody tr th {\n",
       "        vertical-align: top;\n",
       "    }\n",
       "\n",
       "    .dataframe thead th {\n",
       "        text-align: right;\n",
       "    }\n",
       "</style>\n",
       "<table border=\"1\" class=\"dataframe\">\n",
       "  <thead>\n",
       "    <tr style=\"text-align: right;\">\n",
       "      <th></th>\n",
       "      <th>cost</th>\n",
       "      <th>date</th>\n",
       "      <th>profit</th>\n",
       "      <th>sales</th>\n",
       "      <th>filename</th>\n",
       "    </tr>\n",
       "  </thead>\n",
       "  <tbody>\n",
       "    <tr>\n",
       "      <th>0</th>\n",
       "      <td>-100</td>\n",
       "      <td>2011-03-01</td>\n",
       "      <td>200</td>\n",
       "      <td>300</td>\n",
       "      <td>test-data-input-csv-clean-mar.csv</td>\n",
       "    </tr>\n",
       "    <tr>\n",
       "      <th>1</th>\n",
       "      <td>-100</td>\n",
       "      <td>2011-03-02</td>\n",
       "      <td>200</td>\n",
       "      <td>300</td>\n",
       "      <td>test-data-input-csv-clean-mar.csv</td>\n",
       "    </tr>\n",
       "    <tr>\n",
       "      <th>2</th>\n",
       "      <td>-100</td>\n",
       "      <td>2011-03-03</td>\n",
       "      <td>200</td>\n",
       "      <td>300</td>\n",
       "      <td>test-data-input-csv-clean-mar.csv</td>\n",
       "    </tr>\n",
       "    <tr>\n",
       "      <th>0</th>\n",
       "      <td>-90</td>\n",
       "      <td>2011-02-01</td>\n",
       "      <td>110</td>\n",
       "      <td>200</td>\n",
       "      <td>test-data-input-csv-clean-feb.csv</td>\n",
       "    </tr>\n",
       "    <tr>\n",
       "      <th>1</th>\n",
       "      <td>-90</td>\n",
       "      <td>2011-02-02</td>\n",
       "      <td>110</td>\n",
       "      <td>200</td>\n",
       "      <td>test-data-input-csv-clean-feb.csv</td>\n",
       "    </tr>\n",
       "    <tr>\n",
       "      <th>2</th>\n",
       "      <td>-90</td>\n",
       "      <td>2011-02-03</td>\n",
       "      <td>110</td>\n",
       "      <td>200</td>\n",
       "      <td>test-data-input-csv-clean-feb.csv</td>\n",
       "    </tr>\n",
       "    <tr>\n",
       "      <th>0</th>\n",
       "      <td>-80</td>\n",
       "      <td>2011-01-01</td>\n",
       "      <td>20</td>\n",
       "      <td>100</td>\n",
       "      <td>test-data-input-csv-clean-jan.csv</td>\n",
       "    </tr>\n",
       "    <tr>\n",
       "      <th>1</th>\n",
       "      <td>-80</td>\n",
       "      <td>2011-01-02</td>\n",
       "      <td>20</td>\n",
       "      <td>100</td>\n",
       "      <td>test-data-input-csv-clean-jan.csv</td>\n",
       "    </tr>\n",
       "    <tr>\n",
       "      <th>2</th>\n",
       "      <td>-80</td>\n",
       "      <td>2011-01-03</td>\n",
       "      <td>20</td>\n",
       "      <td>100</td>\n",
       "      <td>test-data-input-csv-clean-jan.csv</td>\n",
       "    </tr>\n",
       "  </tbody>\n",
       "</table>\n",
       "</div>"
      ],
      "text/plain": [
       "   cost        date profit sales                           filename\n",
       "0  -100  2011-03-01    200   300  test-data-input-csv-clean-mar.csv\n",
       "1  -100  2011-03-02    200   300  test-data-input-csv-clean-mar.csv\n",
       "2  -100  2011-03-03    200   300  test-data-input-csv-clean-mar.csv\n",
       "0   -90  2011-02-01    110   200  test-data-input-csv-clean-feb.csv\n",
       "1   -90  2011-02-02    110   200  test-data-input-csv-clean-feb.csv\n",
       "2   -90  2011-02-03    110   200  test-data-input-csv-clean-feb.csv\n",
       "0   -80  2011-01-01     20   100  test-data-input-csv-clean-jan.csv\n",
       "1   -80  2011-01-02     20   100  test-data-input-csv-clean-jan.csv\n",
       "2   -80  2011-01-03     20   100  test-data-input-csv-clean-jan.csv"
      ]
     },
     "execution_count": 58,
     "metadata": {},
     "output_type": "execute_result"
    }
   ],
   "source": [
    "c.preview_combine()"
   ]
  },
  {
   "cell_type": "markdown",
   "metadata": {},
   "source": [
    "### Read All Files to Pandas\n",
    "\n",
    "You can quickly load the combined data into a pandas dataframe with a single command. "
   ]
  },
  {
   "cell_type": "code",
   "execution_count": 59,
   "metadata": {},
   "outputs": [
    {
     "data": {
      "text/html": [
       "<div>\n",
       "<style scoped>\n",
       "    .dataframe tbody tr th:only-of-type {\n",
       "        vertical-align: middle;\n",
       "    }\n",
       "\n",
       "    .dataframe tbody tr th {\n",
       "        vertical-align: top;\n",
       "    }\n",
       "\n",
       "    .dataframe thead th {\n",
       "        text-align: right;\n",
       "    }\n",
       "</style>\n",
       "<table border=\"1\" class=\"dataframe\">\n",
       "  <thead>\n",
       "    <tr style=\"text-align: right;\">\n",
       "      <th></th>\n",
       "      <th>cost</th>\n",
       "      <th>date</th>\n",
       "      <th>profit</th>\n",
       "      <th>sales</th>\n",
       "      <th>filename</th>\n",
       "    </tr>\n",
       "  </thead>\n",
       "  <tbody>\n",
       "    <tr>\n",
       "      <th>0</th>\n",
       "      <td>-100</td>\n",
       "      <td>2011-03-01</td>\n",
       "      <td>200</td>\n",
       "      <td>300</td>\n",
       "      <td>test-data-input-csv-clean-mar.csv</td>\n",
       "    </tr>\n",
       "    <tr>\n",
       "      <th>1</th>\n",
       "      <td>-100</td>\n",
       "      <td>2011-03-02</td>\n",
       "      <td>200</td>\n",
       "      <td>300</td>\n",
       "      <td>test-data-input-csv-clean-mar.csv</td>\n",
       "    </tr>\n",
       "    <tr>\n",
       "      <th>2</th>\n",
       "      <td>-100</td>\n",
       "      <td>2011-03-03</td>\n",
       "      <td>200</td>\n",
       "      <td>300</td>\n",
       "      <td>test-data-input-csv-clean-mar.csv</td>\n",
       "    </tr>\n",
       "    <tr>\n",
       "      <th>3</th>\n",
       "      <td>-100</td>\n",
       "      <td>2011-03-04</td>\n",
       "      <td>200</td>\n",
       "      <td>300</td>\n",
       "      <td>test-data-input-csv-clean-mar.csv</td>\n",
       "    </tr>\n",
       "    <tr>\n",
       "      <th>4</th>\n",
       "      <td>-100</td>\n",
       "      <td>2011-03-05</td>\n",
       "      <td>200</td>\n",
       "      <td>300</td>\n",
       "      <td>test-data-input-csv-clean-mar.csv</td>\n",
       "    </tr>\n",
       "  </tbody>\n",
       "</table>\n",
       "</div>"
      ],
      "text/plain": [
       "   cost        date profit sales                           filename\n",
       "0  -100  2011-03-01    200   300  test-data-input-csv-clean-mar.csv\n",
       "1  -100  2011-03-02    200   300  test-data-input-csv-clean-mar.csv\n",
       "2  -100  2011-03-03    200   300  test-data-input-csv-clean-mar.csv\n",
       "3  -100  2011-03-04    200   300  test-data-input-csv-clean-mar.csv\n",
       "4  -100  2011-03-05    200   300  test-data-input-csv-clean-mar.csv"
      ]
     },
     "execution_count": 59,
     "metadata": {},
     "output_type": "execute_result"
    }
   ],
   "source": [
    "c.combine().head()"
   ]
  },
  {
   "cell_type": "markdown",
   "metadata": {},
   "source": [
    "## Use Case: Identifying and fixing inconsistent columns\n",
    "\n",
    "The first case was clean: all files had the same columns. It happens very frequently that the data schema changes over time with columns being added or deleted over time. Let's look at a case where an extra columns got added."
   ]
  },
  {
   "cell_type": "code",
   "execution_count": 60,
   "metadata": {
    "scrolled": true
   },
   "outputs": [
    {
     "name": "stdout",
     "output_type": "stream",
     "text": [
      "['test-data/input/test-data-input-csv-colmismatch-mar.csv', 'test-data/input/test-data-input-csv-colmismatch-feb.csv', 'test-data/input/test-data-input-csv-colmismatch-jan.csv']\n"
     ]
    }
   ],
   "source": [
    "cfg_fnames = list(glob.glob('test-data/input/test-data-input-csv-colmismatch-*.csv'))\n",
    "print(cfg_fnames)"
   ]
  },
  {
   "cell_type": "code",
   "execution_count": 61,
   "metadata": {
    "collapsed": true
   },
   "outputs": [],
   "source": [
    "# get previews\n",
    "c = d6tc.CombinerCSV(cfg_fnames, all_strings=True) # all_strings=True makes reading faster\n",
    "col_preview = c.preview_columns()"
   ]
  },
  {
   "cell_type": "code",
   "execution_count": 62,
   "metadata": {},
   "outputs": [
    {
     "name": "stdout",
     "output_type": "stream",
     "text": [
      "all columns equal? False\n",
      "\n",
      "which columns are unique? ['profit2']\n",
      "\n",
      "which files have unique columns?\n",
      "\n",
      "                                                   profit2\n",
      "file_path                                                 \n",
      "test-data/input/test-data-input-csv-colmismatch...    True\n",
      "test-data/input/test-data-input-csv-colmismatch...   False\n",
      "test-data/input/test-data-input-csv-colmismatch...   False\n"
     ]
    }
   ],
   "source": [
    "print('all columns equal?', col_preview['is_all_equal'])\n",
    "print('')\n",
    "print('which columns are unique?', col_preview['columns_unique'])\n",
    "print('')\n",
    "print('which files have unique columns?')\n",
    "print('')\n",
    "print(col_preview['df_columns_present'][col_preview['columns_unique']])"
   ]
  },
  {
   "cell_type": "code",
   "execution_count": 63,
   "metadata": {
    "scrolled": true
   },
   "outputs": [
    {
     "name": "stderr",
     "output_type": "stream",
     "text": [
      "/mnt/data/dev/d6t-lib/d6tstack/d6tstack/combine_csv.py:242: FutureWarning: Sorting because non-concatenation axis is not aligned. A future version\n",
      "of pandas will change to not sort by default.\n",
      "\n",
      "To accept the future behavior, pass 'sort=True'.\n",
      "\n",
      "To retain the current behavior and silence the warning, pass sort=False\n",
      "\n",
      "  df_all = pd.concat(dfl_all)\n"
     ]
    },
    {
     "data": {
      "text/html": [
       "<div>\n",
       "<style scoped>\n",
       "    .dataframe tbody tr th:only-of-type {\n",
       "        vertical-align: middle;\n",
       "    }\n",
       "\n",
       "    .dataframe tbody tr th {\n",
       "        vertical-align: top;\n",
       "    }\n",
       "\n",
       "    .dataframe thead th {\n",
       "        text-align: right;\n",
       "    }\n",
       "</style>\n",
       "<table border=\"1\" class=\"dataframe\">\n",
       "  <thead>\n",
       "    <tr style=\"text-align: right;\">\n",
       "      <th></th>\n",
       "      <th>cost</th>\n",
       "      <th>date</th>\n",
       "      <th>filename</th>\n",
       "      <th>profit</th>\n",
       "      <th>profit2</th>\n",
       "      <th>sales</th>\n",
       "    </tr>\n",
       "  </thead>\n",
       "  <tbody>\n",
       "    <tr>\n",
       "      <th>0</th>\n",
       "      <td>-100</td>\n",
       "      <td>2011-03-01</td>\n",
       "      <td>test-data-input-csv-colmismatch-mar.csv</td>\n",
       "      <td>200</td>\n",
       "      <td>400</td>\n",
       "      <td>300</td>\n",
       "    </tr>\n",
       "    <tr>\n",
       "      <th>1</th>\n",
       "      <td>-100</td>\n",
       "      <td>2011-03-02</td>\n",
       "      <td>test-data-input-csv-colmismatch-mar.csv</td>\n",
       "      <td>200</td>\n",
       "      <td>400</td>\n",
       "      <td>300</td>\n",
       "    </tr>\n",
       "    <tr>\n",
       "      <th>2</th>\n",
       "      <td>-100</td>\n",
       "      <td>2011-03-03</td>\n",
       "      <td>test-data-input-csv-colmismatch-mar.csv</td>\n",
       "      <td>200</td>\n",
       "      <td>400</td>\n",
       "      <td>300</td>\n",
       "    </tr>\n",
       "    <tr>\n",
       "      <th>0</th>\n",
       "      <td>-90</td>\n",
       "      <td>2011-02-01</td>\n",
       "      <td>test-data-input-csv-colmismatch-feb.csv</td>\n",
       "      <td>110</td>\n",
       "      <td>NaN</td>\n",
       "      <td>200</td>\n",
       "    </tr>\n",
       "    <tr>\n",
       "      <th>1</th>\n",
       "      <td>-90</td>\n",
       "      <td>2011-02-02</td>\n",
       "      <td>test-data-input-csv-colmismatch-feb.csv</td>\n",
       "      <td>110</td>\n",
       "      <td>NaN</td>\n",
       "      <td>200</td>\n",
       "    </tr>\n",
       "    <tr>\n",
       "      <th>2</th>\n",
       "      <td>-90</td>\n",
       "      <td>2011-02-03</td>\n",
       "      <td>test-data-input-csv-colmismatch-feb.csv</td>\n",
       "      <td>110</td>\n",
       "      <td>NaN</td>\n",
       "      <td>200</td>\n",
       "    </tr>\n",
       "    <tr>\n",
       "      <th>0</th>\n",
       "      <td>-80</td>\n",
       "      <td>2011-01-01</td>\n",
       "      <td>test-data-input-csv-colmismatch-jan.csv</td>\n",
       "      <td>20</td>\n",
       "      <td>NaN</td>\n",
       "      <td>100</td>\n",
       "    </tr>\n",
       "    <tr>\n",
       "      <th>1</th>\n",
       "      <td>-80</td>\n",
       "      <td>2011-01-02</td>\n",
       "      <td>test-data-input-csv-colmismatch-jan.csv</td>\n",
       "      <td>20</td>\n",
       "      <td>NaN</td>\n",
       "      <td>100</td>\n",
       "    </tr>\n",
       "    <tr>\n",
       "      <th>2</th>\n",
       "      <td>-80</td>\n",
       "      <td>2011-01-03</td>\n",
       "      <td>test-data-input-csv-colmismatch-jan.csv</td>\n",
       "      <td>20</td>\n",
       "      <td>NaN</td>\n",
       "      <td>100</td>\n",
       "    </tr>\n",
       "  </tbody>\n",
       "</table>\n",
       "</div>"
      ],
      "text/plain": [
       "   cost        date                                 filename profit profit2  \\\n",
       "0  -100  2011-03-01  test-data-input-csv-colmismatch-mar.csv    200     400   \n",
       "1  -100  2011-03-02  test-data-input-csv-colmismatch-mar.csv    200     400   \n",
       "2  -100  2011-03-03  test-data-input-csv-colmismatch-mar.csv    200     400   \n",
       "0   -90  2011-02-01  test-data-input-csv-colmismatch-feb.csv    110     NaN   \n",
       "1   -90  2011-02-02  test-data-input-csv-colmismatch-feb.csv    110     NaN   \n",
       "2   -90  2011-02-03  test-data-input-csv-colmismatch-feb.csv    110     NaN   \n",
       "0   -80  2011-01-01  test-data-input-csv-colmismatch-jan.csv     20     NaN   \n",
       "1   -80  2011-01-02  test-data-input-csv-colmismatch-jan.csv     20     NaN   \n",
       "2   -80  2011-01-03  test-data-input-csv-colmismatch-jan.csv     20     NaN   \n",
       "\n",
       "  sales  \n",
       "0   300  \n",
       "1   300  \n",
       "2   300  \n",
       "0   200  \n",
       "1   200  \n",
       "2   200  \n",
       "0   100  \n",
       "1   100  \n",
       "2   100  "
      ]
     },
     "execution_count": 63,
     "metadata": {},
     "output_type": "execute_result"
    }
   ],
   "source": [
    "c.preview_combine() # keep all columns"
   ]
  },
  {
   "cell_type": "code",
   "execution_count": 64,
   "metadata": {},
   "outputs": [
    {
     "data": {
      "text/html": [
       "<div>\n",
       "<style scoped>\n",
       "    .dataframe tbody tr th:only-of-type {\n",
       "        vertical-align: middle;\n",
       "    }\n",
       "\n",
       "    .dataframe tbody tr th {\n",
       "        vertical-align: top;\n",
       "    }\n",
       "\n",
       "    .dataframe thead th {\n",
       "        text-align: right;\n",
       "    }\n",
       "</style>\n",
       "<table border=\"1\" class=\"dataframe\">\n",
       "  <thead>\n",
       "    <tr style=\"text-align: right;\">\n",
       "      <th></th>\n",
       "      <th>cost</th>\n",
       "      <th>date</th>\n",
       "      <th>profit</th>\n",
       "      <th>sales</th>\n",
       "      <th>filename</th>\n",
       "    </tr>\n",
       "  </thead>\n",
       "  <tbody>\n",
       "    <tr>\n",
       "      <th>0</th>\n",
       "      <td>-100</td>\n",
       "      <td>2011-03-01</td>\n",
       "      <td>200</td>\n",
       "      <td>300</td>\n",
       "      <td>test-data-input-csv-colmismatch-mar.csv</td>\n",
       "    </tr>\n",
       "    <tr>\n",
       "      <th>1</th>\n",
       "      <td>-100</td>\n",
       "      <td>2011-03-02</td>\n",
       "      <td>200</td>\n",
       "      <td>300</td>\n",
       "      <td>test-data-input-csv-colmismatch-mar.csv</td>\n",
       "    </tr>\n",
       "    <tr>\n",
       "      <th>2</th>\n",
       "      <td>-100</td>\n",
       "      <td>2011-03-03</td>\n",
       "      <td>200</td>\n",
       "      <td>300</td>\n",
       "      <td>test-data-input-csv-colmismatch-mar.csv</td>\n",
       "    </tr>\n",
       "    <tr>\n",
       "      <th>0</th>\n",
       "      <td>-90</td>\n",
       "      <td>2011-02-01</td>\n",
       "      <td>110</td>\n",
       "      <td>200</td>\n",
       "      <td>test-data-input-csv-colmismatch-feb.csv</td>\n",
       "    </tr>\n",
       "    <tr>\n",
       "      <th>1</th>\n",
       "      <td>-90</td>\n",
       "      <td>2011-02-02</td>\n",
       "      <td>110</td>\n",
       "      <td>200</td>\n",
       "      <td>test-data-input-csv-colmismatch-feb.csv</td>\n",
       "    </tr>\n",
       "    <tr>\n",
       "      <th>2</th>\n",
       "      <td>-90</td>\n",
       "      <td>2011-02-03</td>\n",
       "      <td>110</td>\n",
       "      <td>200</td>\n",
       "      <td>test-data-input-csv-colmismatch-feb.csv</td>\n",
       "    </tr>\n",
       "    <tr>\n",
       "      <th>0</th>\n",
       "      <td>-80</td>\n",
       "      <td>2011-01-01</td>\n",
       "      <td>20</td>\n",
       "      <td>100</td>\n",
       "      <td>test-data-input-csv-colmismatch-jan.csv</td>\n",
       "    </tr>\n",
       "    <tr>\n",
       "      <th>1</th>\n",
       "      <td>-80</td>\n",
       "      <td>2011-01-02</td>\n",
       "      <td>20</td>\n",
       "      <td>100</td>\n",
       "      <td>test-data-input-csv-colmismatch-jan.csv</td>\n",
       "    </tr>\n",
       "    <tr>\n",
       "      <th>2</th>\n",
       "      <td>-80</td>\n",
       "      <td>2011-01-03</td>\n",
       "      <td>20</td>\n",
       "      <td>100</td>\n",
       "      <td>test-data-input-csv-colmismatch-jan.csv</td>\n",
       "    </tr>\n",
       "  </tbody>\n",
       "</table>\n",
       "</div>"
      ],
      "text/plain": [
       "   cost        date profit sales                                 filename\n",
       "0  -100  2011-03-01    200   300  test-data-input-csv-colmismatch-mar.csv\n",
       "1  -100  2011-03-02    200   300  test-data-input-csv-colmismatch-mar.csv\n",
       "2  -100  2011-03-03    200   300  test-data-input-csv-colmismatch-mar.csv\n",
       "0   -90  2011-02-01    110   200  test-data-input-csv-colmismatch-feb.csv\n",
       "1   -90  2011-02-02    110   200  test-data-input-csv-colmismatch-feb.csv\n",
       "2   -90  2011-02-03    110   200  test-data-input-csv-colmismatch-feb.csv\n",
       "0   -80  2011-01-01     20   100  test-data-input-csv-colmismatch-jan.csv\n",
       "1   -80  2011-01-02     20   100  test-data-input-csv-colmismatch-jan.csv\n",
       "2   -80  2011-01-03     20   100  test-data-input-csv-colmismatch-jan.csv"
      ]
     },
     "execution_count": 64,
     "metadata": {},
     "output_type": "execute_result"
    }
   ],
   "source": [
    "c.preview_combine(is_col_common=True) # keep only common columns"
   ]
  },
  {
   "cell_type": "markdown",
   "metadata": {},
   "source": [
    "# Use Case: align renamed columns. Select subset of columns\n",
    "\n",
    "Say a column has been renamed and now the data doesn't line up with the data from the old column name. You can easily fix such a situation by using `CombinerCSVAdvanced` which allows you to rename columns and automatically lines up the data. It also allows you to just load data from a subset of columns."
   ]
  },
  {
   "cell_type": "code",
   "execution_count": 65,
   "metadata": {
    "collapsed": true
   },
   "outputs": [],
   "source": [
    "# only select particular columns\n",
    "cfg_col_sel = ['date','sales','cost','profit']\n",
    "# rename colums\n",
    "cfg_col_rename = {'sales':'revenue'}"
   ]
  },
  {
   "cell_type": "code",
   "execution_count": 66,
   "metadata": {
    "scrolled": true
   },
   "outputs": [
    {
     "data": {
      "text/html": [
       "<div>\n",
       "<style scoped>\n",
       "    .dataframe tbody tr th:only-of-type {\n",
       "        vertical-align: middle;\n",
       "    }\n",
       "\n",
       "    .dataframe tbody tr th {\n",
       "        vertical-align: top;\n",
       "    }\n",
       "\n",
       "    .dataframe thead th {\n",
       "        text-align: right;\n",
       "    }\n",
       "</style>\n",
       "<table border=\"1\" class=\"dataframe\">\n",
       "  <thead>\n",
       "    <tr style=\"text-align: right;\">\n",
       "      <th></th>\n",
       "      <th>cost</th>\n",
       "      <th>profit</th>\n",
       "      <th>revenue</th>\n",
       "      <th>date</th>\n",
       "      <th>filename</th>\n",
       "    </tr>\n",
       "  </thead>\n",
       "  <tbody>\n",
       "    <tr>\n",
       "      <th>0</th>\n",
       "      <td>-100</td>\n",
       "      <td>200</td>\n",
       "      <td>300</td>\n",
       "      <td>2011-03-01</td>\n",
       "      <td>test-data-input-csv-colmismatch-mar.csv</td>\n",
       "    </tr>\n",
       "    <tr>\n",
       "      <th>1</th>\n",
       "      <td>-100</td>\n",
       "      <td>200</td>\n",
       "      <td>300</td>\n",
       "      <td>2011-03-02</td>\n",
       "      <td>test-data-input-csv-colmismatch-mar.csv</td>\n",
       "    </tr>\n",
       "    <tr>\n",
       "      <th>2</th>\n",
       "      <td>-100</td>\n",
       "      <td>200</td>\n",
       "      <td>300</td>\n",
       "      <td>2011-03-03</td>\n",
       "      <td>test-data-input-csv-colmismatch-mar.csv</td>\n",
       "    </tr>\n",
       "    <tr>\n",
       "      <th>0</th>\n",
       "      <td>-90</td>\n",
       "      <td>110</td>\n",
       "      <td>200</td>\n",
       "      <td>2011-02-01</td>\n",
       "      <td>test-data-input-csv-colmismatch-feb.csv</td>\n",
       "    </tr>\n",
       "    <tr>\n",
       "      <th>1</th>\n",
       "      <td>-90</td>\n",
       "      <td>110</td>\n",
       "      <td>200</td>\n",
       "      <td>2011-02-02</td>\n",
       "      <td>test-data-input-csv-colmismatch-feb.csv</td>\n",
       "    </tr>\n",
       "    <tr>\n",
       "      <th>2</th>\n",
       "      <td>-90</td>\n",
       "      <td>110</td>\n",
       "      <td>200</td>\n",
       "      <td>2011-02-03</td>\n",
       "      <td>test-data-input-csv-colmismatch-feb.csv</td>\n",
       "    </tr>\n",
       "    <tr>\n",
       "      <th>0</th>\n",
       "      <td>-80</td>\n",
       "      <td>20</td>\n",
       "      <td>100</td>\n",
       "      <td>2011-01-01</td>\n",
       "      <td>test-data-input-csv-colmismatch-jan.csv</td>\n",
       "    </tr>\n",
       "    <tr>\n",
       "      <th>1</th>\n",
       "      <td>-80</td>\n",
       "      <td>20</td>\n",
       "      <td>100</td>\n",
       "      <td>2011-01-02</td>\n",
       "      <td>test-data-input-csv-colmismatch-jan.csv</td>\n",
       "    </tr>\n",
       "    <tr>\n",
       "      <th>2</th>\n",
       "      <td>-80</td>\n",
       "      <td>20</td>\n",
       "      <td>100</td>\n",
       "      <td>2011-01-03</td>\n",
       "      <td>test-data-input-csv-colmismatch-jan.csv</td>\n",
       "    </tr>\n",
       "  </tbody>\n",
       "</table>\n",
       "</div>"
      ],
      "text/plain": [
       "   cost profit revenue        date                                 filename\n",
       "0  -100    200     300  2011-03-01  test-data-input-csv-colmismatch-mar.csv\n",
       "1  -100    200     300  2011-03-02  test-data-input-csv-colmismatch-mar.csv\n",
       "2  -100    200     300  2011-03-03  test-data-input-csv-colmismatch-mar.csv\n",
       "0   -90    110     200  2011-02-01  test-data-input-csv-colmismatch-feb.csv\n",
       "1   -90    110     200  2011-02-02  test-data-input-csv-colmismatch-feb.csv\n",
       "2   -90    110     200  2011-02-03  test-data-input-csv-colmismatch-feb.csv\n",
       "0   -80     20     100  2011-01-01  test-data-input-csv-colmismatch-jan.csv\n",
       "1   -80     20     100  2011-01-02  test-data-input-csv-colmismatch-jan.csv\n",
       "2   -80     20     100  2011-01-03  test-data-input-csv-colmismatch-jan.csv"
      ]
     },
     "execution_count": 66,
     "metadata": {},
     "output_type": "execute_result"
    }
   ],
   "source": [
    "combiner2 = d6tc.CombinerCSVAdvanced(c, cfg_col_sel, cfg_col_rename)\n",
    "combiner2.preview_combine() \n"
   ]
  },
  {
   "cell_type": "markdown",
   "metadata": {},
   "source": [
    "## Case: Identify change in column order\n",
    "\n",
    "If you read your files into a database this will be a real problem because it look like the files are all the same whereas in fact they have changes. This is because programs like dask or sql loaders assume the column order is the same. With `d6tstack` you can easily identify and fix such a case."
   ]
  },
  {
   "cell_type": "code",
   "execution_count": 67,
   "metadata": {
    "scrolled": true
   },
   "outputs": [
    {
     "name": "stdout",
     "output_type": "stream",
     "text": [
      "['test-data/input/test-data-input-csv-reorder-jan.csv', 'test-data/input/test-data-input-csv-reorder-mar.csv', 'test-data/input/test-data-input-csv-reorder-feb.csv']\n"
     ]
    }
   ],
   "source": [
    "cfg_fnames = list(glob.glob('test-data/input/test-data-input-csv-reorder-*.csv'))\n",
    "print(cfg_fnames)"
   ]
  },
  {
   "cell_type": "code",
   "execution_count": 68,
   "metadata": {
    "collapsed": true
   },
   "outputs": [],
   "source": [
    "# get previews\n",
    "c = d6tc.CombinerCSV(cfg_fnames, all_strings=True) # all_strings=True makes reading faster\n",
    "col_preview = c.preview_columns()"
   ]
  },
  {
   "cell_type": "markdown",
   "metadata": {},
   "source": [
    "Here we can see that all columns are not equal"
   ]
  },
  {
   "cell_type": "code",
   "execution_count": 69,
   "metadata": {},
   "outputs": [
    {
     "name": "stdout",
     "output_type": "stream",
     "text": [
      "all columns equal? False\n",
      "\n",
      "in what order do columns appear in the files?\n",
      "\n",
      "                              filename cost date profit sales\n",
      "0  test-data-input-csv-reorder-jan.csv    2    0      3     1\n",
      "1  test-data-input-csv-reorder-mar.csv    3    0      2     1\n",
      "2  test-data-input-csv-reorder-feb.csv    2    0      3     1\n"
     ]
    }
   ],
   "source": [
    "print('all columns equal?', col_preview['is_all_equal'])\n",
    "print('')\n",
    "print('in what order do columns appear in the files?')\n",
    "print('')\n",
    "print(col_preview['df_columns_order'].reset_index(drop=True))"
   ]
  },
  {
   "cell_type": "code",
   "execution_count": 70,
   "metadata": {
    "scrolled": true
   },
   "outputs": [
    {
     "name": "stderr",
     "output_type": "stream",
     "text": [
      "/mnt/data/dev/d6t-lib/d6tstack/d6tstack/combine_csv.py:242: FutureWarning: Sorting because non-concatenation axis is not aligned. A future version\n",
      "of pandas will change to not sort by default.\n",
      "\n",
      "To accept the future behavior, pass 'sort=True'.\n",
      "\n",
      "To retain the current behavior and silence the warning, pass sort=False\n",
      "\n",
      "  df_all = pd.concat(dfl_all)\n"
     ]
    },
    {
     "data": {
      "text/html": [
       "<div>\n",
       "<style scoped>\n",
       "    .dataframe tbody tr th:only-of-type {\n",
       "        vertical-align: middle;\n",
       "    }\n",
       "\n",
       "    .dataframe tbody tr th {\n",
       "        vertical-align: top;\n",
       "    }\n",
       "\n",
       "    .dataframe thead th {\n",
       "        text-align: right;\n",
       "    }\n",
       "</style>\n",
       "<table border=\"1\" class=\"dataframe\">\n",
       "  <thead>\n",
       "    <tr style=\"text-align: right;\">\n",
       "      <th></th>\n",
       "      <th>cost</th>\n",
       "      <th>date</th>\n",
       "      <th>filename</th>\n",
       "      <th>profit</th>\n",
       "      <th>sales</th>\n",
       "    </tr>\n",
       "  </thead>\n",
       "  <tbody>\n",
       "    <tr>\n",
       "      <th>0</th>\n",
       "      <td>-80</td>\n",
       "      <td>2011-01-01</td>\n",
       "      <td>test-data-input-csv-reorder-jan.csv</td>\n",
       "      <td>20</td>\n",
       "      <td>100</td>\n",
       "    </tr>\n",
       "    <tr>\n",
       "      <th>1</th>\n",
       "      <td>-80</td>\n",
       "      <td>2011-01-02</td>\n",
       "      <td>test-data-input-csv-reorder-jan.csv</td>\n",
       "      <td>20</td>\n",
       "      <td>100</td>\n",
       "    </tr>\n",
       "    <tr>\n",
       "      <th>2</th>\n",
       "      <td>-80</td>\n",
       "      <td>2011-01-03</td>\n",
       "      <td>test-data-input-csv-reorder-jan.csv</td>\n",
       "      <td>20</td>\n",
       "      <td>100</td>\n",
       "    </tr>\n",
       "    <tr>\n",
       "      <th>0</th>\n",
       "      <td>-100</td>\n",
       "      <td>2011-03-01</td>\n",
       "      <td>test-data-input-csv-reorder-mar.csv</td>\n",
       "      <td>200</td>\n",
       "      <td>300</td>\n",
       "    </tr>\n",
       "    <tr>\n",
       "      <th>1</th>\n",
       "      <td>-100</td>\n",
       "      <td>2011-03-02</td>\n",
       "      <td>test-data-input-csv-reorder-mar.csv</td>\n",
       "      <td>200</td>\n",
       "      <td>300</td>\n",
       "    </tr>\n",
       "    <tr>\n",
       "      <th>2</th>\n",
       "      <td>-100</td>\n",
       "      <td>2011-03-03</td>\n",
       "      <td>test-data-input-csv-reorder-mar.csv</td>\n",
       "      <td>200</td>\n",
       "      <td>300</td>\n",
       "    </tr>\n",
       "    <tr>\n",
       "      <th>0</th>\n",
       "      <td>-90</td>\n",
       "      <td>2011-02-01</td>\n",
       "      <td>test-data-input-csv-reorder-feb.csv</td>\n",
       "      <td>110</td>\n",
       "      <td>200</td>\n",
       "    </tr>\n",
       "    <tr>\n",
       "      <th>1</th>\n",
       "      <td>-90</td>\n",
       "      <td>2011-02-02</td>\n",
       "      <td>test-data-input-csv-reorder-feb.csv</td>\n",
       "      <td>110</td>\n",
       "      <td>200</td>\n",
       "    </tr>\n",
       "    <tr>\n",
       "      <th>2</th>\n",
       "      <td>-90</td>\n",
       "      <td>2011-02-03</td>\n",
       "      <td>test-data-input-csv-reorder-feb.csv</td>\n",
       "      <td>110</td>\n",
       "      <td>200</td>\n",
       "    </tr>\n",
       "  </tbody>\n",
       "</table>\n",
       "</div>"
      ],
      "text/plain": [
       "   cost        date                             filename profit sales\n",
       "0   -80  2011-01-01  test-data-input-csv-reorder-jan.csv     20   100\n",
       "1   -80  2011-01-02  test-data-input-csv-reorder-jan.csv     20   100\n",
       "2   -80  2011-01-03  test-data-input-csv-reorder-jan.csv     20   100\n",
       "0  -100  2011-03-01  test-data-input-csv-reorder-mar.csv    200   300\n",
       "1  -100  2011-03-02  test-data-input-csv-reorder-mar.csv    200   300\n",
       "2  -100  2011-03-03  test-data-input-csv-reorder-mar.csv    200   300\n",
       "0   -90  2011-02-01  test-data-input-csv-reorder-feb.csv    110   200\n",
       "1   -90  2011-02-02  test-data-input-csv-reorder-feb.csv    110   200\n",
       "2   -90  2011-02-03  test-data-input-csv-reorder-feb.csv    110   200"
      ]
     },
     "execution_count": 70,
     "metadata": {},
     "output_type": "execute_result"
    }
   ],
   "source": [
    "c.preview_combine() # automatically puts it in the right order"
   ]
  },
  {
   "cell_type": "markdown",
   "metadata": {},
   "source": [
    "# Customize separator and pass pd.read_csv() params\n",
    "\n",
    "You can pass additional parameters such as separators and any params for `pd.read_csv()` to the combiner."
   ]
  },
  {
   "cell_type": "code",
   "execution_count": 71,
   "metadata": {
    "scrolled": true
   },
   "outputs": [
    {
     "name": "stdout",
     "output_type": "stream",
     "text": [
      "{'files_columns': {'test-data/input/test-data-input-csv-reorder-jan.csv': ['date', 'sales', 'cost', 'profit'], 'test-data/input/test-data-input-csv-reorder-mar.csv': ['date', 'sales', 'profit', 'cost'], 'test-data/input/test-data-input-csv-reorder-feb.csv': ['date', 'sales', 'cost', 'profit']}, 'columns_all': ['cost', 'date', 'profit', 'sales'], 'columns_common': ['cost', 'date', 'profit', 'sales'], 'columns_unique': [], 'is_all_equal': False, 'df_columns_present':                                                                                filename  \\\n",
      "file_path                                                                                 \n",
      "test-data/input/test-data-input-csv-reorder-jan...  test-data-input-csv-reorder-jan.csv   \n",
      "test-data/input/test-data-input-csv-reorder-mar...  test-data-input-csv-reorder-mar.csv   \n",
      "test-data/input/test-data-input-csv-reorder-feb...  test-data-input-csv-reorder-feb.csv   \n",
      "\n",
      "                                                    cost  date profit sales  \n",
      "file_path                                                                    \n",
      "test-data/input/test-data-input-csv-reorder-jan...  True  True   True  True  \n",
      "test-data/input/test-data-input-csv-reorder-mar...  True  True   True  True  \n",
      "test-data/input/test-data-input-csv-reorder-feb...  True  True   True  True  , 'df_columns_order':                                                                                filename  \\\n",
      "test-data/input/test-data-input-csv-reorder-jan...  test-data-input-csv-reorder-jan.csv   \n",
      "test-data/input/test-data-input-csv-reorder-mar...  test-data-input-csv-reorder-mar.csv   \n",
      "test-data/input/test-data-input-csv-reorder-feb...  test-data-input-csv-reorder-feb.csv   \n",
      "\n",
      "                                                   cost date profit sales  \n",
      "test-data/input/test-data-input-csv-reorder-jan...    2    0      3     1  \n",
      "test-data/input/test-data-input-csv-reorder-mar...    3    0      2     1  \n",
      "test-data/input/test-data-input-csv-reorder-feb...    2    0      3     1  }\n"
     ]
    }
   ],
   "source": [
    "c = d6tc.CombinerCSV(cfg_fnames, sep=',',all_strings=True, read_csv_params={'header': None})\n",
    "col_preview = c.preview_columns()\n",
    "print(col_preview)"
   ]
  },
  {
   "cell_type": "markdown",
   "metadata": {},
   "source": [
    "# CSV out of core functionality\n",
    "\n",
    "If your files are large you don't want to read them all in memory and then save. Instead you can write directly to the output file."
   ]
  },
  {
   "cell_type": "code",
   "execution_count": 72,
   "metadata": {
    "scrolled": true
   },
   "outputs": [
    {
     "data": {
      "text/plain": [
       "True"
      ]
     },
     "execution_count": 72,
     "metadata": {},
     "output_type": "execute_result"
    }
   ],
   "source": [
    "combiner2.combine_save('test-data/output/test.csv')"
   ]
  },
  {
   "cell_type": "markdown",
   "metadata": {},
   "source": [
    "### Detect CSV settings across all files"
   ]
  },
  {
   "cell_type": "code",
   "execution_count": 73,
   "metadata": {},
   "outputs": [
    {
     "name": "stdout",
     "output_type": "stream",
     "text": [
      "{'delim': ',', 'skiprows': 0, 'has_header': True, 'header': 0}\n"
     ]
    }
   ],
   "source": [
    "# finds common csv across all files\n",
    "cfg_sniff = d6tc.sniff_settings_csv(cfg_fnames)\n",
    "print(cfg_sniff)\n"
   ]
  },
  {
   "cell_type": "markdown",
   "metadata": {
    "collapsed": true
   },
   "source": [
    "# Excel Functionality"
   ]
  },
  {
   "cell_type": "code",
   "execution_count": 74,
   "metadata": {},
   "outputs": [],
   "source": [
    "import importlib\n",
    "import pandas as pd\n",
    "import glob\n",
    "\n",
    "import d6tstack.combine_csv as d6tc\n",
    "from d6tstack.sniffer import XLSSniffer\n",
    "from d6tstack.convert_xls import XLStoCSVMultiFile\n",
    "from d6tstack.utils import PrintLogger"
   ]
  },
  {
   "cell_type": "code",
   "execution_count": 75,
   "metadata": {
    "scrolled": true
   },
   "outputs": [
    {
     "name": "stdout",
     "output_type": "stream",
     "text": [
      "['test-data/input/test-data-input-xls-mult-feb.xlsx', 'test-data/input/test-data-input-xls-mult-jan.xlsx', 'test-data/input/test-data-input-xls-mult-mar.xlsx']\n"
     ]
    }
   ],
   "source": [
    "cfg_fnames = list(glob.glob('test-data/input/test-data-input-xls-mult-*.xlsx'))\n",
    "print(cfg_fnames)"
   ]
  },
  {
   "cell_type": "markdown",
   "metadata": {},
   "source": [
    "### Sniff excel sheets across files"
   ]
  },
  {
   "cell_type": "code",
   "execution_count": 76,
   "metadata": {
    "collapsed": true
   },
   "outputs": [],
   "source": [
    "# finds sheets across all files\n",
    "sniffer = XLSSniffer(cfg_fnames)\n"
   ]
  },
  {
   "cell_type": "code",
   "execution_count": 77,
   "metadata": {},
   "outputs": [
    {
     "name": "stdout",
     "output_type": "stream",
     "text": [
      "all files have same sheet count? True\n",
      "\n",
      "all files have same sheet names? True\n",
      "\n",
      "all files contain sheet? True\n",
      "\n",
      "detailed dataframe\n",
      "\n",
      "                           file_name sheets_count sheets_idx      sheets_names\n",
      "0  test-data-input-xls-mult-feb.xlsx            2     [0, 1]  [Sheet1, Sheet2]\n",
      "1  test-data-input-xls-mult-jan.xlsx            2     [0, 1]  [Sheet1, Sheet2]\n",
      "2  test-data-input-xls-mult-mar.xlsx            2     [0, 1]  [Sheet1, Sheet2]\n"
     ]
    }
   ],
   "source": [
    "print('all files have same sheet count?', sniffer.all_same_count())\n",
    "print('')\n",
    "print('all files have same sheet names?', sniffer.all_same_names())\n",
    "print('')\n",
    "print('all files contain sheet?', sniffer.all_contain_sheetname('Sheet1'))\n",
    "print('')\n",
    "print('detailed dataframe')\n",
    "print('')\n",
    "print(sniffer.df_xls_sheets.reset_index(drop=True).head())"
   ]
  },
  {
   "cell_type": "markdown",
   "metadata": {},
   "source": [
    "### Use the print logger"
   ]
  },
  {
   "cell_type": "code",
   "execution_count": 78,
   "metadata": {
    "collapsed": true
   },
   "outputs": [],
   "source": [
    "logger = PrintLogger()"
   ]
  },
  {
   "cell_type": "markdown",
   "metadata": {},
   "source": [
    "### Convert excel to csv"
   ]
  },
  {
   "cell_type": "code",
   "execution_count": 79,
   "metadata": {
    "scrolled": true
   },
   "outputs": [
    {
     "name": "stdout",
     "output_type": "stream",
     "text": [
      "converting file: test-data-input-xls-mult-feb.xlsx | sheet: 0 ok\n",
      "converting file: test-data-input-xls-mult-jan.xlsx | sheet: 0 ok\n",
      "converting file: test-data-input-xls-mult-mar.xlsx | sheet: 0 ok\n",
      "['test-data/input/test-data-input-xls-mult-feb.xlsx-0.csv', 'test-data/input/test-data-input-xls-mult-jan.xlsx-0.csv', 'test-data/input/test-data-input-xls-mult-mar.xlsx-0.csv']\n"
     ]
    }
   ],
   "source": [
    "convertor = XLStoCSVMultiFile(cfg_fnames[:3], 'idx_global', 0, if_exists='replace', logger=logger)\n",
    "files_out = convertor.convert_all()\n",
    "print(files_out)"
   ]
  },
  {
   "cell_type": "markdown",
   "metadata": {},
   "source": [
    "### Read messy excel to pandas"
   ]
  },
  {
   "cell_type": "code",
   "execution_count": 80,
   "metadata": {},
   "outputs": [
    {
     "data": {
      "text/html": [
       "<div>\n",
       "<style scoped>\n",
       "    .dataframe tbody tr th:only-of-type {\n",
       "        vertical-align: middle;\n",
       "    }\n",
       "\n",
       "    .dataframe tbody tr th {\n",
       "        vertical-align: top;\n",
       "    }\n",
       "\n",
       "    .dataframe thead th {\n",
       "        text-align: right;\n",
       "    }\n",
       "</style>\n",
       "<table border=\"1\" class=\"dataframe\">\n",
       "  <thead>\n",
       "    <tr style=\"text-align: right;\">\n",
       "      <th></th>\n",
       "      <th>Product Code</th>\n",
       "      <th>Product Description</th>\n",
       "      <th>Weight (KG)</th>\n",
       "      <th>Units</th>\n",
       "      <th>Cost</th>\n",
       "      <th>Ordered quantity</th>\n",
       "      <th>Total  cost</th>\n",
       "    </tr>\n",
       "  </thead>\n",
       "  <tbody>\n",
       "    <tr>\n",
       "      <th>0</th>\n",
       "      <td>SLFA300</td>\n",
       "      <td>SALMON FILLET A-TRIM</td>\n",
       "      <td>1</td>\n",
       "      <td>KG</td>\n",
       "      <td>11.07</td>\n",
       "      <td>10</td>\n",
       "      <td>110.7</td>\n",
       "    </tr>\n",
       "  </tbody>\n",
       "</table>\n",
       "</div>"
      ],
      "text/plain": [
       "  Product Code   Product Description  Weight (KG) Units   Cost  \\\n",
       "0      SLFA300  SALMON FILLET A-TRIM            1    KG  11.07   \n",
       "\n",
       "   Ordered quantity  Total  cost  \n",
       "0                10        110.7  "
      ]
     },
     "execution_count": 80,
     "metadata": {},
     "output_type": "execute_result"
    }
   ],
   "source": [
    "from d6tstack.utils import read_excel_advanced\n",
    "cfg_path = 'test-data/adv_excel_data/read_excel_adv - sample3.xlsx'\n",
    "df=read_excel_advanced(cfg_path, header_xls_start=\"A10\", header_xls_end=\"G10\")\n",
    "df.head()"
   ]
  }
 ],
 "metadata": {
  "kernelspec": {
   "display_name": "Python 3",
   "language": "python",
   "name": "python3"
  },
  "language_info": {
   "codemirror_mode": {
    "name": "ipython",
    "version": 3
   },
   "file_extension": ".py",
   "mimetype": "text/x-python",
   "name": "python",
   "nbconvert_exporter": "python",
   "pygments_lexer": "ipython3",
   "version": "3.6.3"
  }
 },
 "nbformat": 4,
 "nbformat_minor": 2
}
