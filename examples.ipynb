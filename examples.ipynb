{
 "cells": [
  {
   "cell_type": "markdown",
   "metadata": {},
   "source": [
    "# CSV Base Functionality"
   ]
  },
  {
   "cell_type": "code",
   "execution_count": 1,
   "metadata": {},
   "outputs": [],
   "source": [
    "import importlib\n",
    "import pandas as pd\n",
    "import glob\n",
    "\n",
    "import d6t.stack.combine_csv as d6tc"
   ]
  },
  {
   "cell_type": "markdown",
   "metadata": {},
   "source": [
    "## Get sample data"
   ]
  },
  {
   "cell_type": "code",
   "execution_count": 2,
   "metadata": {},
   "outputs": [],
   "source": [
    "import urllib.request\n",
    "cfg_fname_sample = 'test-data.zip'\n",
    "urllib.request.urlretrieve(\"https://github.com/d6t/d6t-lib/raw/master/\"+cfg_fname_sample, cfg_fname_sample)\n",
    "import zipfile\n",
    "zip_ref = zipfile.ZipFile(cfg_fname_sample, 'r')\n",
    "zip_ref.extractall('.')\n",
    "zip_ref.close()"
   ]
  },
  {
   "cell_type": "markdown",
   "metadata": {},
   "source": [
    "## Case: Clean files\n",
    "* All files have all columns\n",
    "* Commonly used csv settings with seperator ',' and header present"
   ]
  },
  {
   "cell_type": "code",
   "execution_count": 26,
   "metadata": {
    "scrolled": true
   },
   "outputs": [
    {
     "name": "stdout",
     "output_type": "stream",
     "text": [
      "['test-data/input\\\\test-data-input-csv-clean-jan.csv', 'test-data/input\\\\test-data-input-csv-clean-feb.csv', 'test-data/input\\\\test-data-input-csv-clean-mar.csv']\n"
     ]
    }
   ],
   "source": [
    "cfg_fnames = list(glob.glob('test-data/input/test-data-input-csv-clean-*.csv'))\n",
    "print(cfg_fnames)"
   ]
  },
  {
   "cell_type": "markdown",
   "metadata": {},
   "source": [
    "### Detect CSV settings across all files"
   ]
  },
  {
   "cell_type": "code",
   "execution_count": 27,
   "metadata": {},
   "outputs": [
    {
     "name": "stdout",
     "output_type": "stream",
     "text": [
      "{'delim': ',', 'skiprows': 0, 'has_header': True, 'header': 0}\n"
     ]
    }
   ],
   "source": [
    "# finds common csv across all files\n",
    "cfg_sniff = d6tc.sniff_settings_csv(cfg_fnames)\n",
    "print(cfg_sniff)\n"
   ]
  },
  {
   "cell_type": "markdown",
   "metadata": {},
   "source": [
    "### Preview and check colums across all files"
   ]
  },
  {
   "cell_type": "code",
   "execution_count": 28,
   "metadata": {},
   "outputs": [],
   "source": [
    "# get previews\n",
    "c = d6tc.CombinerCSV(cfg_fnames, all_strings=True) # all_strings=True makes reading faster\n",
    "col_preview = c.preview_columns()"
   ]
  },
  {
   "cell_type": "code",
   "execution_count": 29,
   "metadata": {},
   "outputs": [
    {
     "name": "stdout",
     "output_type": "stream",
     "text": [
      "all columns equal? True\n",
      "\n",
      "which columns are present in which files?\n",
      "\n",
      "                            filename  cost  date profit sales\n",
      "0  test-data-input-csv-clean-feb.csv  True  True   True  True\n",
      "1  test-data-input-csv-clean-jan.csv  True  True   True  True\n",
      "2  test-data-input-csv-clean-mar.csv  True  True   True  True\n",
      "\n",
      "in what order do columns appear in the files?\n",
      "\n",
      "                            filename cost date profit sales\n",
      "0  test-data-input-csv-clean-feb.csv    0    1      2     3\n",
      "1  test-data-input-csv-clean-jan.csv    0    1      2     3\n",
      "2  test-data-input-csv-clean-mar.csv    0    1      2     3\n"
     ]
    }
   ],
   "source": [
    "print('all columns equal?', col_preview['is_all_equal'])\n",
    "print('')\n",
    "print('which columns are present in which files?')\n",
    "print('')\n",
    "print(col_preview['df_columns_present'].reset_index(drop=True))\n",
    "print('')\n",
    "print('in what order do columns appear in the files?')\n",
    "print('')\n",
    "print(col_preview['df_columns_order'].reset_index(drop=True))"
   ]
  },
  {
   "cell_type": "markdown",
   "metadata": {},
   "source": [
    "### Preview Combine"
   ]
  },
  {
   "cell_type": "code",
   "execution_count": 30,
   "metadata": {},
   "outputs": [
    {
     "data": {
      "text/html": [
       "<div>\n",
       "<style scoped>\n",
       "    .dataframe tbody tr th:only-of-type {\n",
       "        vertical-align: middle;\n",
       "    }\n",
       "\n",
       "    .dataframe tbody tr th {\n",
       "        vertical-align: top;\n",
       "    }\n",
       "\n",
       "    .dataframe thead th {\n",
       "        text-align: right;\n",
       "    }\n",
       "</style>\n",
       "<table border=\"1\" class=\"dataframe\">\n",
       "  <thead>\n",
       "    <tr style=\"text-align: right;\">\n",
       "      <th></th>\n",
       "      <th>cost</th>\n",
       "      <th>date</th>\n",
       "      <th>profit</th>\n",
       "      <th>sales</th>\n",
       "      <th>filename</th>\n",
       "    </tr>\n",
       "  </thead>\n",
       "  <tbody>\n",
       "    <tr>\n",
       "      <th>0</th>\n",
       "      <td>-80</td>\n",
       "      <td>2011-01-01</td>\n",
       "      <td>20</td>\n",
       "      <td>100</td>\n",
       "      <td>test-data-input-csv-clean-jan.csv</td>\n",
       "    </tr>\n",
       "    <tr>\n",
       "      <th>1</th>\n",
       "      <td>-80</td>\n",
       "      <td>2011-01-02</td>\n",
       "      <td>20</td>\n",
       "      <td>100</td>\n",
       "      <td>test-data-input-csv-clean-jan.csv</td>\n",
       "    </tr>\n",
       "    <tr>\n",
       "      <th>2</th>\n",
       "      <td>-80</td>\n",
       "      <td>2011-01-03</td>\n",
       "      <td>20</td>\n",
       "      <td>100</td>\n",
       "      <td>test-data-input-csv-clean-jan.csv</td>\n",
       "    </tr>\n",
       "    <tr>\n",
       "      <th>0</th>\n",
       "      <td>-90</td>\n",
       "      <td>2011-02-01</td>\n",
       "      <td>110</td>\n",
       "      <td>200</td>\n",
       "      <td>test-data-input-csv-clean-feb.csv</td>\n",
       "    </tr>\n",
       "    <tr>\n",
       "      <th>1</th>\n",
       "      <td>-90</td>\n",
       "      <td>2011-02-02</td>\n",
       "      <td>110</td>\n",
       "      <td>200</td>\n",
       "      <td>test-data-input-csv-clean-feb.csv</td>\n",
       "    </tr>\n",
       "    <tr>\n",
       "      <th>2</th>\n",
       "      <td>-90</td>\n",
       "      <td>2011-02-03</td>\n",
       "      <td>110</td>\n",
       "      <td>200</td>\n",
       "      <td>test-data-input-csv-clean-feb.csv</td>\n",
       "    </tr>\n",
       "    <tr>\n",
       "      <th>0</th>\n",
       "      <td>-100</td>\n",
       "      <td>2011-03-01</td>\n",
       "      <td>200</td>\n",
       "      <td>300</td>\n",
       "      <td>test-data-input-csv-clean-mar.csv</td>\n",
       "    </tr>\n",
       "    <tr>\n",
       "      <th>1</th>\n",
       "      <td>-100</td>\n",
       "      <td>2011-03-02</td>\n",
       "      <td>200</td>\n",
       "      <td>300</td>\n",
       "      <td>test-data-input-csv-clean-mar.csv</td>\n",
       "    </tr>\n",
       "    <tr>\n",
       "      <th>2</th>\n",
       "      <td>-100</td>\n",
       "      <td>2011-03-03</td>\n",
       "      <td>200</td>\n",
       "      <td>300</td>\n",
       "      <td>test-data-input-csv-clean-mar.csv</td>\n",
       "    </tr>\n",
       "  </tbody>\n",
       "</table>\n",
       "</div>"
      ],
      "text/plain": [
       "   cost        date profit sales                           filename\n",
       "0   -80  2011-01-01     20   100  test-data-input-csv-clean-jan.csv\n",
       "1   -80  2011-01-02     20   100  test-data-input-csv-clean-jan.csv\n",
       "2   -80  2011-01-03     20   100  test-data-input-csv-clean-jan.csv\n",
       "0   -90  2011-02-01    110   200  test-data-input-csv-clean-feb.csv\n",
       "1   -90  2011-02-02    110   200  test-data-input-csv-clean-feb.csv\n",
       "2   -90  2011-02-03    110   200  test-data-input-csv-clean-feb.csv\n",
       "0  -100  2011-03-01    200   300  test-data-input-csv-clean-mar.csv\n",
       "1  -100  2011-03-02    200   300  test-data-input-csv-clean-mar.csv\n",
       "2  -100  2011-03-03    200   300  test-data-input-csv-clean-mar.csv"
      ]
     },
     "execution_count": 30,
     "metadata": {},
     "output_type": "execute_result"
    }
   ],
   "source": [
    "c.combine_preview()"
   ]
  },
  {
   "cell_type": "markdown",
   "metadata": {},
   "source": [
    "### Full Combine"
   ]
  },
  {
   "cell_type": "code",
   "execution_count": 31,
   "metadata": {},
   "outputs": [
    {
     "data": {
      "text/html": [
       "<div>\n",
       "<style scoped>\n",
       "    .dataframe tbody tr th:only-of-type {\n",
       "        vertical-align: middle;\n",
       "    }\n",
       "\n",
       "    .dataframe tbody tr th {\n",
       "        vertical-align: top;\n",
       "    }\n",
       "\n",
       "    .dataframe thead th {\n",
       "        text-align: right;\n",
       "    }\n",
       "</style>\n",
       "<table border=\"1\" class=\"dataframe\">\n",
       "  <thead>\n",
       "    <tr style=\"text-align: right;\">\n",
       "      <th></th>\n",
       "      <th>cost</th>\n",
       "      <th>date</th>\n",
       "      <th>profit</th>\n",
       "      <th>sales</th>\n",
       "      <th>filename</th>\n",
       "    </tr>\n",
       "  </thead>\n",
       "  <tbody>\n",
       "    <tr>\n",
       "      <th>0</th>\n",
       "      <td>-80</td>\n",
       "      <td>2011-01-01</td>\n",
       "      <td>20</td>\n",
       "      <td>100</td>\n",
       "      <td>test-data-input-csv-clean-jan.csv</td>\n",
       "    </tr>\n",
       "    <tr>\n",
       "      <th>1</th>\n",
       "      <td>-80</td>\n",
       "      <td>2011-01-02</td>\n",
       "      <td>20</td>\n",
       "      <td>100</td>\n",
       "      <td>test-data-input-csv-clean-jan.csv</td>\n",
       "    </tr>\n",
       "    <tr>\n",
       "      <th>2</th>\n",
       "      <td>-80</td>\n",
       "      <td>2011-01-03</td>\n",
       "      <td>20</td>\n",
       "      <td>100</td>\n",
       "      <td>test-data-input-csv-clean-jan.csv</td>\n",
       "    </tr>\n",
       "    <tr>\n",
       "      <th>3</th>\n",
       "      <td>-80</td>\n",
       "      <td>2011-01-04</td>\n",
       "      <td>20</td>\n",
       "      <td>100</td>\n",
       "      <td>test-data-input-csv-clean-jan.csv</td>\n",
       "    </tr>\n",
       "    <tr>\n",
       "      <th>4</th>\n",
       "      <td>-80</td>\n",
       "      <td>2011-01-05</td>\n",
       "      <td>20</td>\n",
       "      <td>100</td>\n",
       "      <td>test-data-input-csv-clean-jan.csv</td>\n",
       "    </tr>\n",
       "  </tbody>\n",
       "</table>\n",
       "</div>"
      ],
      "text/plain": [
       "  cost        date profit sales                           filename\n",
       "0  -80  2011-01-01     20   100  test-data-input-csv-clean-jan.csv\n",
       "1  -80  2011-01-02     20   100  test-data-input-csv-clean-jan.csv\n",
       "2  -80  2011-01-03     20   100  test-data-input-csv-clean-jan.csv\n",
       "3  -80  2011-01-04     20   100  test-data-input-csv-clean-jan.csv\n",
       "4  -80  2011-01-05     20   100  test-data-input-csv-clean-jan.csv"
      ]
     },
     "execution_count": 31,
     "metadata": {},
     "output_type": "execute_result"
    }
   ],
   "source": [
    "c.combine().head()"
   ]
  },
  {
   "cell_type": "markdown",
   "metadata": {},
   "source": [
    "## Case: Mismatched columns\n",
    "* One file has extra columns"
   ]
  },
  {
   "cell_type": "code",
   "execution_count": 32,
   "metadata": {
    "scrolled": true
   },
   "outputs": [
    {
     "name": "stdout",
     "output_type": "stream",
     "text": [
      "['test-data/input\\\\test-data-input-csv-colmismatch-jan.csv', 'test-data/input\\\\test-data-input-csv-colmismatch-feb.csv', 'test-data/input\\\\test-data-input-csv-colmismatch-mar.csv']\n"
     ]
    }
   ],
   "source": [
    "cfg_fnames = list(glob.glob('test-data/input/test-data-input-csv-colmismatch-*.csv'))\n",
    "print(cfg_fnames)"
   ]
  },
  {
   "cell_type": "code",
   "execution_count": 33,
   "metadata": {},
   "outputs": [],
   "source": [
    "# get previews\n",
    "c = d6tc.CombinerCSV(cfg_fnames, all_strings=True) # all_strings=True makes reading faster\n",
    "col_preview = c.preview_columns()"
   ]
  },
  {
   "cell_type": "code",
   "execution_count": 34,
   "metadata": {},
   "outputs": [
    {
     "name": "stdout",
     "output_type": "stream",
     "text": [
      "all columns equal? False\n",
      "\n",
      "which columns are unique? ['profit2']\n",
      "\n",
      "which files have unique columns?\n",
      "\n",
      "                                                   profit2\n",
      "file_path                                                 \n",
      "test-data/input\\test-data-input-csv-colmismatch...   False\n",
      "test-data/input\\test-data-input-csv-colmismatch...   False\n",
      "test-data/input\\test-data-input-csv-colmismatch...    True\n"
     ]
    }
   ],
   "source": [
    "print('all columns equal?', col_preview['is_all_equal'])\n",
    "print('')\n",
    "print('which columns are unique?', col_preview['columns_unique'])\n",
    "print('')\n",
    "print('which files have unique columns?')\n",
    "print('')\n",
    "print(col_preview['df_columns_present'][col_preview['columns_unique']])"
   ]
  },
  {
   "cell_type": "code",
   "execution_count": 35,
   "metadata": {
    "scrolled": true
   },
   "outputs": [
    {
     "data": {
      "text/html": [
       "<div>\n",
       "<style scoped>\n",
       "    .dataframe tbody tr th:only-of-type {\n",
       "        vertical-align: middle;\n",
       "    }\n",
       "\n",
       "    .dataframe tbody tr th {\n",
       "        vertical-align: top;\n",
       "    }\n",
       "\n",
       "    .dataframe thead th {\n",
       "        text-align: right;\n",
       "    }\n",
       "</style>\n",
       "<table border=\"1\" class=\"dataframe\">\n",
       "  <thead>\n",
       "    <tr style=\"text-align: right;\">\n",
       "      <th></th>\n",
       "      <th>cost</th>\n",
       "      <th>date</th>\n",
       "      <th>filename</th>\n",
       "      <th>profit</th>\n",
       "      <th>profit2</th>\n",
       "      <th>sales</th>\n",
       "    </tr>\n",
       "  </thead>\n",
       "  <tbody>\n",
       "    <tr>\n",
       "      <th>0</th>\n",
       "      <td>-80</td>\n",
       "      <td>2011-01-01</td>\n",
       "      <td>test-data-input-csv-colmismatch-jan.csv</td>\n",
       "      <td>20</td>\n",
       "      <td>NaN</td>\n",
       "      <td>100</td>\n",
       "    </tr>\n",
       "    <tr>\n",
       "      <th>1</th>\n",
       "      <td>-80</td>\n",
       "      <td>2011-01-02</td>\n",
       "      <td>test-data-input-csv-colmismatch-jan.csv</td>\n",
       "      <td>20</td>\n",
       "      <td>NaN</td>\n",
       "      <td>100</td>\n",
       "    </tr>\n",
       "    <tr>\n",
       "      <th>2</th>\n",
       "      <td>-80</td>\n",
       "      <td>2011-01-03</td>\n",
       "      <td>test-data-input-csv-colmismatch-jan.csv</td>\n",
       "      <td>20</td>\n",
       "      <td>NaN</td>\n",
       "      <td>100</td>\n",
       "    </tr>\n",
       "    <tr>\n",
       "      <th>0</th>\n",
       "      <td>-90</td>\n",
       "      <td>2011-02-01</td>\n",
       "      <td>test-data-input-csv-colmismatch-feb.csv</td>\n",
       "      <td>110</td>\n",
       "      <td>NaN</td>\n",
       "      <td>200</td>\n",
       "    </tr>\n",
       "    <tr>\n",
       "      <th>1</th>\n",
       "      <td>-90</td>\n",
       "      <td>2011-02-02</td>\n",
       "      <td>test-data-input-csv-colmismatch-feb.csv</td>\n",
       "      <td>110</td>\n",
       "      <td>NaN</td>\n",
       "      <td>200</td>\n",
       "    </tr>\n",
       "    <tr>\n",
       "      <th>2</th>\n",
       "      <td>-90</td>\n",
       "      <td>2011-02-03</td>\n",
       "      <td>test-data-input-csv-colmismatch-feb.csv</td>\n",
       "      <td>110</td>\n",
       "      <td>NaN</td>\n",
       "      <td>200</td>\n",
       "    </tr>\n",
       "    <tr>\n",
       "      <th>0</th>\n",
       "      <td>-100</td>\n",
       "      <td>2011-03-01</td>\n",
       "      <td>test-data-input-csv-colmismatch-mar.csv</td>\n",
       "      <td>200</td>\n",
       "      <td>400</td>\n",
       "      <td>300</td>\n",
       "    </tr>\n",
       "    <tr>\n",
       "      <th>1</th>\n",
       "      <td>-100</td>\n",
       "      <td>2011-03-02</td>\n",
       "      <td>test-data-input-csv-colmismatch-mar.csv</td>\n",
       "      <td>200</td>\n",
       "      <td>400</td>\n",
       "      <td>300</td>\n",
       "    </tr>\n",
       "    <tr>\n",
       "      <th>2</th>\n",
       "      <td>-100</td>\n",
       "      <td>2011-03-03</td>\n",
       "      <td>test-data-input-csv-colmismatch-mar.csv</td>\n",
       "      <td>200</td>\n",
       "      <td>400</td>\n",
       "      <td>300</td>\n",
       "    </tr>\n",
       "  </tbody>\n",
       "</table>\n",
       "</div>"
      ],
      "text/plain": [
       "   cost        date                                 filename profit profit2  \\\n",
       "0   -80  2011-01-01  test-data-input-csv-colmismatch-jan.csv     20     NaN   \n",
       "1   -80  2011-01-02  test-data-input-csv-colmismatch-jan.csv     20     NaN   \n",
       "2   -80  2011-01-03  test-data-input-csv-colmismatch-jan.csv     20     NaN   \n",
       "0   -90  2011-02-01  test-data-input-csv-colmismatch-feb.csv    110     NaN   \n",
       "1   -90  2011-02-02  test-data-input-csv-colmismatch-feb.csv    110     NaN   \n",
       "2   -90  2011-02-03  test-data-input-csv-colmismatch-feb.csv    110     NaN   \n",
       "0  -100  2011-03-01  test-data-input-csv-colmismatch-mar.csv    200     400   \n",
       "1  -100  2011-03-02  test-data-input-csv-colmismatch-mar.csv    200     400   \n",
       "2  -100  2011-03-03  test-data-input-csv-colmismatch-mar.csv    200     400   \n",
       "\n",
       "  sales  \n",
       "0   100  \n",
       "1   100  \n",
       "2   100  \n",
       "0   200  \n",
       "1   200  \n",
       "2   200  \n",
       "0   300  \n",
       "1   300  \n",
       "2   300  "
      ]
     },
     "execution_count": 35,
     "metadata": {},
     "output_type": "execute_result"
    }
   ],
   "source": [
    "c.combine_preview() # keep all columns"
   ]
  },
  {
   "cell_type": "code",
   "execution_count": 36,
   "metadata": {},
   "outputs": [
    {
     "data": {
      "text/html": [
       "<div>\n",
       "<style scoped>\n",
       "    .dataframe tbody tr th:only-of-type {\n",
       "        vertical-align: middle;\n",
       "    }\n",
       "\n",
       "    .dataframe tbody tr th {\n",
       "        vertical-align: top;\n",
       "    }\n",
       "\n",
       "    .dataframe thead th {\n",
       "        text-align: right;\n",
       "    }\n",
       "</style>\n",
       "<table border=\"1\" class=\"dataframe\">\n",
       "  <thead>\n",
       "    <tr style=\"text-align: right;\">\n",
       "      <th></th>\n",
       "      <th>cost</th>\n",
       "      <th>date</th>\n",
       "      <th>profit</th>\n",
       "      <th>sales</th>\n",
       "      <th>filename</th>\n",
       "    </tr>\n",
       "  </thead>\n",
       "  <tbody>\n",
       "    <tr>\n",
       "      <th>0</th>\n",
       "      <td>-80</td>\n",
       "      <td>2011-01-01</td>\n",
       "      <td>20</td>\n",
       "      <td>100</td>\n",
       "      <td>test-data-input-csv-colmismatch-jan.csv</td>\n",
       "    </tr>\n",
       "    <tr>\n",
       "      <th>1</th>\n",
       "      <td>-80</td>\n",
       "      <td>2011-01-02</td>\n",
       "      <td>20</td>\n",
       "      <td>100</td>\n",
       "      <td>test-data-input-csv-colmismatch-jan.csv</td>\n",
       "    </tr>\n",
       "    <tr>\n",
       "      <th>2</th>\n",
       "      <td>-80</td>\n",
       "      <td>2011-01-03</td>\n",
       "      <td>20</td>\n",
       "      <td>100</td>\n",
       "      <td>test-data-input-csv-colmismatch-jan.csv</td>\n",
       "    </tr>\n",
       "    <tr>\n",
       "      <th>0</th>\n",
       "      <td>-90</td>\n",
       "      <td>2011-02-01</td>\n",
       "      <td>110</td>\n",
       "      <td>200</td>\n",
       "      <td>test-data-input-csv-colmismatch-feb.csv</td>\n",
       "    </tr>\n",
       "    <tr>\n",
       "      <th>1</th>\n",
       "      <td>-90</td>\n",
       "      <td>2011-02-02</td>\n",
       "      <td>110</td>\n",
       "      <td>200</td>\n",
       "      <td>test-data-input-csv-colmismatch-feb.csv</td>\n",
       "    </tr>\n",
       "    <tr>\n",
       "      <th>2</th>\n",
       "      <td>-90</td>\n",
       "      <td>2011-02-03</td>\n",
       "      <td>110</td>\n",
       "      <td>200</td>\n",
       "      <td>test-data-input-csv-colmismatch-feb.csv</td>\n",
       "    </tr>\n",
       "    <tr>\n",
       "      <th>0</th>\n",
       "      <td>-100</td>\n",
       "      <td>2011-03-01</td>\n",
       "      <td>200</td>\n",
       "      <td>300</td>\n",
       "      <td>test-data-input-csv-colmismatch-mar.csv</td>\n",
       "    </tr>\n",
       "    <tr>\n",
       "      <th>1</th>\n",
       "      <td>-100</td>\n",
       "      <td>2011-03-02</td>\n",
       "      <td>200</td>\n",
       "      <td>300</td>\n",
       "      <td>test-data-input-csv-colmismatch-mar.csv</td>\n",
       "    </tr>\n",
       "    <tr>\n",
       "      <th>2</th>\n",
       "      <td>-100</td>\n",
       "      <td>2011-03-03</td>\n",
       "      <td>200</td>\n",
       "      <td>300</td>\n",
       "      <td>test-data-input-csv-colmismatch-mar.csv</td>\n",
       "    </tr>\n",
       "  </tbody>\n",
       "</table>\n",
       "</div>"
      ],
      "text/plain": [
       "   cost        date profit sales                                 filename\n",
       "0   -80  2011-01-01     20   100  test-data-input-csv-colmismatch-jan.csv\n",
       "1   -80  2011-01-02     20   100  test-data-input-csv-colmismatch-jan.csv\n",
       "2   -80  2011-01-03     20   100  test-data-input-csv-colmismatch-jan.csv\n",
       "0   -90  2011-02-01    110   200  test-data-input-csv-colmismatch-feb.csv\n",
       "1   -90  2011-02-02    110   200  test-data-input-csv-colmismatch-feb.csv\n",
       "2   -90  2011-02-03    110   200  test-data-input-csv-colmismatch-feb.csv\n",
       "0  -100  2011-03-01    200   300  test-data-input-csv-colmismatch-mar.csv\n",
       "1  -100  2011-03-02    200   300  test-data-input-csv-colmismatch-mar.csv\n",
       "2  -100  2011-03-03    200   300  test-data-input-csv-colmismatch-mar.csv"
      ]
     },
     "execution_count": 36,
     "metadata": {},
     "output_type": "execute_result"
    }
   ],
   "source": [
    "c.combine_preview(is_col_common=True) # keep only common columns"
   ]
  },
  {
   "cell_type": "markdown",
   "metadata": {},
   "source": [
    "## Case: Wrong order columns\n",
    "* One file has columns in different order, tools like dask or pyspark would put the column values in wrong order"
   ]
  },
  {
   "cell_type": "code",
   "execution_count": 37,
   "metadata": {
    "scrolled": true
   },
   "outputs": [
    {
     "name": "stdout",
     "output_type": "stream",
     "text": [
      "['test-data/input\\\\test-data-input-csv-reorder-jan.csv', 'test-data/input\\\\test-data-input-csv-reorder-feb.csv', 'test-data/input\\\\test-data-input-csv-reorder-mar.csv']\n"
     ]
    }
   ],
   "source": [
    "cfg_fnames = list(glob.glob('test-data/input/test-data-input-csv-reorder-*.csv'))\n",
    "print(cfg_fnames)"
   ]
  },
  {
   "cell_type": "code",
   "execution_count": 38,
   "metadata": {},
   "outputs": [],
   "source": [
    "# get previews\n",
    "c = d6tc.CombinerCSV(cfg_fnames, all_strings=True) # all_strings=True makes reading faster\n",
    "col_preview = c.preview_columns()"
   ]
  },
  {
   "cell_type": "markdown",
   "metadata": {},
   "source": [
    "Here we can see that all columns are not equal"
   ]
  },
  {
   "cell_type": "code",
   "execution_count": 39,
   "metadata": {},
   "outputs": [
    {
     "name": "stdout",
     "output_type": "stream",
     "text": [
      "all columns equal? False\n",
      "\n",
      "in what order do columns appear in the files?\n",
      "\n",
      "                              filename cost date profit sales\n",
      "0  test-data-input-csv-reorder-feb.csv    2    0      3     1\n",
      "1  test-data-input-csv-reorder-jan.csv    2    0      3     1\n",
      "2  test-data-input-csv-reorder-mar.csv    3    0      2     1\n"
     ]
    }
   ],
   "source": [
    "print('all columns equal?', col_preview['is_all_equal'])\n",
    "print('')\n",
    "print('in what order do columns appear in the files?')\n",
    "print('')\n",
    "print(col_preview['df_columns_order'].reset_index(drop=True))"
   ]
  },
  {
   "cell_type": "code",
   "execution_count": 40,
   "metadata": {
    "scrolled": true
   },
   "outputs": [
    {
     "data": {
      "text/html": [
       "<div>\n",
       "<style scoped>\n",
       "    .dataframe tbody tr th:only-of-type {\n",
       "        vertical-align: middle;\n",
       "    }\n",
       "\n",
       "    .dataframe tbody tr th {\n",
       "        vertical-align: top;\n",
       "    }\n",
       "\n",
       "    .dataframe thead th {\n",
       "        text-align: right;\n",
       "    }\n",
       "</style>\n",
       "<table border=\"1\" class=\"dataframe\">\n",
       "  <thead>\n",
       "    <tr style=\"text-align: right;\">\n",
       "      <th></th>\n",
       "      <th>cost</th>\n",
       "      <th>date</th>\n",
       "      <th>filename</th>\n",
       "      <th>profit</th>\n",
       "      <th>sales</th>\n",
       "    </tr>\n",
       "  </thead>\n",
       "  <tbody>\n",
       "    <tr>\n",
       "      <th>0</th>\n",
       "      <td>-80</td>\n",
       "      <td>2011-01-01</td>\n",
       "      <td>test-data-input-csv-reorder-jan.csv</td>\n",
       "      <td>20</td>\n",
       "      <td>100</td>\n",
       "    </tr>\n",
       "    <tr>\n",
       "      <th>1</th>\n",
       "      <td>-80</td>\n",
       "      <td>2011-01-02</td>\n",
       "      <td>test-data-input-csv-reorder-jan.csv</td>\n",
       "      <td>20</td>\n",
       "      <td>100</td>\n",
       "    </tr>\n",
       "    <tr>\n",
       "      <th>2</th>\n",
       "      <td>-80</td>\n",
       "      <td>2011-01-03</td>\n",
       "      <td>test-data-input-csv-reorder-jan.csv</td>\n",
       "      <td>20</td>\n",
       "      <td>100</td>\n",
       "    </tr>\n",
       "    <tr>\n",
       "      <th>0</th>\n",
       "      <td>-90</td>\n",
       "      <td>2011-02-01</td>\n",
       "      <td>test-data-input-csv-reorder-feb.csv</td>\n",
       "      <td>110</td>\n",
       "      <td>200</td>\n",
       "    </tr>\n",
       "    <tr>\n",
       "      <th>1</th>\n",
       "      <td>-90</td>\n",
       "      <td>2011-02-02</td>\n",
       "      <td>test-data-input-csv-reorder-feb.csv</td>\n",
       "      <td>110</td>\n",
       "      <td>200</td>\n",
       "    </tr>\n",
       "    <tr>\n",
       "      <th>2</th>\n",
       "      <td>-90</td>\n",
       "      <td>2011-02-03</td>\n",
       "      <td>test-data-input-csv-reorder-feb.csv</td>\n",
       "      <td>110</td>\n",
       "      <td>200</td>\n",
       "    </tr>\n",
       "    <tr>\n",
       "      <th>0</th>\n",
       "      <td>-100</td>\n",
       "      <td>2011-03-01</td>\n",
       "      <td>test-data-input-csv-reorder-mar.csv</td>\n",
       "      <td>200</td>\n",
       "      <td>300</td>\n",
       "    </tr>\n",
       "    <tr>\n",
       "      <th>1</th>\n",
       "      <td>-100</td>\n",
       "      <td>2011-03-02</td>\n",
       "      <td>test-data-input-csv-reorder-mar.csv</td>\n",
       "      <td>200</td>\n",
       "      <td>300</td>\n",
       "    </tr>\n",
       "    <tr>\n",
       "      <th>2</th>\n",
       "      <td>-100</td>\n",
       "      <td>2011-03-03</td>\n",
       "      <td>test-data-input-csv-reorder-mar.csv</td>\n",
       "      <td>200</td>\n",
       "      <td>300</td>\n",
       "    </tr>\n",
       "  </tbody>\n",
       "</table>\n",
       "</div>"
      ],
      "text/plain": [
       "   cost        date                             filename profit sales\n",
       "0   -80  2011-01-01  test-data-input-csv-reorder-jan.csv     20   100\n",
       "1   -80  2011-01-02  test-data-input-csv-reorder-jan.csv     20   100\n",
       "2   -80  2011-01-03  test-data-input-csv-reorder-jan.csv     20   100\n",
       "0   -90  2011-02-01  test-data-input-csv-reorder-feb.csv    110   200\n",
       "1   -90  2011-02-02  test-data-input-csv-reorder-feb.csv    110   200\n",
       "2   -90  2011-02-03  test-data-input-csv-reorder-feb.csv    110   200\n",
       "0  -100  2011-03-01  test-data-input-csv-reorder-mar.csv    200   300\n",
       "1  -100  2011-03-02  test-data-input-csv-reorder-mar.csv    200   300\n",
       "2  -100  2011-03-03  test-data-input-csv-reorder-mar.csv    200   300"
      ]
     },
     "execution_count": 40,
     "metadata": {},
     "output_type": "execute_result"
    }
   ],
   "source": [
    "c.combine_preview() # automatically puts it in the right order"
   ]
  },
  {
   "cell_type": "markdown",
   "metadata": {},
   "source": [
    "# CSV Advanced: customize select and rename colums\n",
    "Say you want to select only certain columns or rename them before combining?"
   ]
  },
  {
   "cell_type": "code",
   "execution_count": 50,
   "metadata": {},
   "outputs": [],
   "source": [
    "# only select particular columns\n",
    "cfg_col_sel = ['date','sales','cost','profit']\n",
    "# rename colums\n",
    "cfg_col_rename = {'sales':'revenue'}"
   ]
  },
  {
   "cell_type": "code",
   "execution_count": 52,
   "metadata": {},
   "outputs": [
    {
     "data": {
      "text/html": [
       "<div>\n",
       "<style scoped>\n",
       "    .dataframe tbody tr th:only-of-type {\n",
       "        vertical-align: middle;\n",
       "    }\n",
       "\n",
       "    .dataframe tbody tr th {\n",
       "        vertical-align: top;\n",
       "    }\n",
       "\n",
       "    .dataframe thead th {\n",
       "        text-align: right;\n",
       "    }\n",
       "</style>\n",
       "<table border=\"1\" class=\"dataframe\">\n",
       "  <thead>\n",
       "    <tr style=\"text-align: right;\">\n",
       "      <th></th>\n",
       "      <th>filename</th>\n",
       "      <th>date</th>\n",
       "      <th>revenue</th>\n",
       "      <th>cost</th>\n",
       "      <th>profit</th>\n",
       "    </tr>\n",
       "  </thead>\n",
       "  <tbody>\n",
       "    <tr>\n",
       "      <th>0</th>\n",
       "      <td>test-data-input-csv-reorder-jan.csv</td>\n",
       "      <td>2011-01-01</td>\n",
       "      <td>100</td>\n",
       "      <td>-80</td>\n",
       "      <td>20</td>\n",
       "    </tr>\n",
       "    <tr>\n",
       "      <th>1</th>\n",
       "      <td>test-data-input-csv-reorder-jan.csv</td>\n",
       "      <td>2011-01-02</td>\n",
       "      <td>100</td>\n",
       "      <td>-80</td>\n",
       "      <td>20</td>\n",
       "    </tr>\n",
       "    <tr>\n",
       "      <th>2</th>\n",
       "      <td>test-data-input-csv-reorder-jan.csv</td>\n",
       "      <td>2011-01-03</td>\n",
       "      <td>100</td>\n",
       "      <td>-80</td>\n",
       "      <td>20</td>\n",
       "    </tr>\n",
       "    <tr>\n",
       "      <th>0</th>\n",
       "      <td>test-data-input-csv-reorder-feb.csv</td>\n",
       "      <td>2011-02-01</td>\n",
       "      <td>200</td>\n",
       "      <td>-90</td>\n",
       "      <td>110</td>\n",
       "    </tr>\n",
       "    <tr>\n",
       "      <th>1</th>\n",
       "      <td>test-data-input-csv-reorder-feb.csv</td>\n",
       "      <td>2011-02-02</td>\n",
       "      <td>200</td>\n",
       "      <td>-90</td>\n",
       "      <td>110</td>\n",
       "    </tr>\n",
       "    <tr>\n",
       "      <th>2</th>\n",
       "      <td>test-data-input-csv-reorder-feb.csv</td>\n",
       "      <td>2011-02-03</td>\n",
       "      <td>200</td>\n",
       "      <td>-90</td>\n",
       "      <td>110</td>\n",
       "    </tr>\n",
       "    <tr>\n",
       "      <th>0</th>\n",
       "      <td>test-data-input-csv-reorder-mar.csv</td>\n",
       "      <td>2011-03-01</td>\n",
       "      <td>300</td>\n",
       "      <td>-100</td>\n",
       "      <td>200</td>\n",
       "    </tr>\n",
       "    <tr>\n",
       "      <th>1</th>\n",
       "      <td>test-data-input-csv-reorder-mar.csv</td>\n",
       "      <td>2011-03-02</td>\n",
       "      <td>300</td>\n",
       "      <td>-100</td>\n",
       "      <td>200</td>\n",
       "    </tr>\n",
       "    <tr>\n",
       "      <th>2</th>\n",
       "      <td>test-data-input-csv-reorder-mar.csv</td>\n",
       "      <td>2011-03-03</td>\n",
       "      <td>300</td>\n",
       "      <td>-100</td>\n",
       "      <td>200</td>\n",
       "    </tr>\n",
       "  </tbody>\n",
       "</table>\n",
       "</div>"
      ],
      "text/plain": [
       "                              filename        date revenue  cost profit\n",
       "0  test-data-input-csv-reorder-jan.csv  2011-01-01     100   -80     20\n",
       "1  test-data-input-csv-reorder-jan.csv  2011-01-02     100   -80     20\n",
       "2  test-data-input-csv-reorder-jan.csv  2011-01-03     100   -80     20\n",
       "0  test-data-input-csv-reorder-feb.csv  2011-02-01     200   -90    110\n",
       "1  test-data-input-csv-reorder-feb.csv  2011-02-02     200   -90    110\n",
       "2  test-data-input-csv-reorder-feb.csv  2011-02-03     200   -90    110\n",
       "0  test-data-input-csv-reorder-mar.csv  2011-03-01     300  -100    200\n",
       "1  test-data-input-csv-reorder-mar.csv  2011-03-02     300  -100    200\n",
       "2  test-data-input-csv-reorder-mar.csv  2011-03-03     300  -100    200"
      ]
     },
     "execution_count": 52,
     "metadata": {},
     "output_type": "execute_result"
    }
   ],
   "source": [
    "combiner2 = d6tc.CombinerCSVAdvanced(c, cfg_col_sel, cfg_col_rename)\n",
    "combiner2.combine_preview() \n"
   ]
  },
  {
   "cell_type": "markdown",
   "metadata": {},
   "source": [
    "# CSV out of core functionality\n",
    "\n",
    "If your files are large you don't want to read them all in memory and then save. Instead you can write directly to the output file."
   ]
  },
  {
   "cell_type": "code",
   "execution_count": 54,
   "metadata": {},
   "outputs": [
    {
     "data": {
      "text/plain": [
       "True"
      ]
     },
     "execution_count": 54,
     "metadata": {},
     "output_type": "execute_result"
    }
   ],
   "source": [
    "combiner2.combine_save('test-data/output/test.csv')"
   ]
  },
  {
   "cell_type": "markdown",
   "metadata": {
    "collapsed": true
   },
   "source": [
    "# Excel Functionality"
   ]
  },
  {
   "cell_type": "code",
   "execution_count": 41,
   "metadata": {},
   "outputs": [],
   "source": [
    "import importlib\n",
    "import pandas as pd\n",
    "import glob\n",
    "\n",
    "import d6t.stack.combine_csv as d6tc\n",
    "from d6t.stack.sniffer import XLSSniffer\n",
    "from d6t.stack.combine_xls import XLStoCSVMultiFile\n",
    "from d6t.stack.helpers import PrintLogger"
   ]
  },
  {
   "cell_type": "code",
   "execution_count": 42,
   "metadata": {
    "scrolled": true
   },
   "outputs": [
    {
     "name": "stdout",
     "output_type": "stream",
     "text": [
      "['test-data/input\\\\test-data-input-xls-mult-jan.xlsx', 'test-data/input\\\\test-data-input-xls-mult-feb.xlsx', 'test-data/input\\\\test-data-input-xls-mult-mar.xlsx']\n"
     ]
    }
   ],
   "source": [
    "cfg_fnames = list(glob.glob('test-data/input/test-data-input-xls-mult-*.xlsx'))\n",
    "print(cfg_fnames)"
   ]
  },
  {
   "cell_type": "markdown",
   "metadata": {},
   "source": [
    "### Sniff excel sheets across files"
   ]
  },
  {
   "cell_type": "code",
   "execution_count": 43,
   "metadata": {},
   "outputs": [],
   "source": [
    "# finds sheets across all files\n",
    "sniffer = XLSSniffer(cfg_fnames)\n"
   ]
  },
  {
   "cell_type": "code",
   "execution_count": 44,
   "metadata": {},
   "outputs": [
    {
     "name": "stdout",
     "output_type": "stream",
     "text": [
      "all files have same sheet count? True\n",
      "\n",
      "all files have same sheet names? True\n",
      "\n",
      "all files contain sheet? True\n",
      "\n",
      "detailed dataframe\n",
      "\n",
      "                           file_name sheets_count sheets_idx      sheets_names\n",
      "0  test-data-input-xls-mult-feb.xlsx            2     [0, 1]  [Sheet1, Sheet2]\n",
      "1  test-data-input-xls-mult-jan.xlsx            2     [0, 1]  [Sheet1, Sheet2]\n",
      "2  test-data-input-xls-mult-mar.xlsx            2     [0, 1]  [Sheet1, Sheet2]\n"
     ]
    }
   ],
   "source": [
    "print('all files have same sheet count?', sniffer.all_same_count())\n",
    "print('')\n",
    "print('all files have same sheet names?', sniffer.all_same_names())\n",
    "print('')\n",
    "print('all files contain sheet?', sniffer.all_contain_sheetname('Sheet1'))\n",
    "print('')\n",
    "print('detailed dataframe')\n",
    "print('')\n",
    "print(sniffer.df_xls_sheets.reset_index(drop=True).head())"
   ]
  },
  {
   "cell_type": "markdown",
   "metadata": {},
   "source": [
    "### Use the print logger"
   ]
  },
  {
   "cell_type": "code",
   "execution_count": 45,
   "metadata": {},
   "outputs": [],
   "source": [
    "logger = PrintLogger()"
   ]
  },
  {
   "cell_type": "markdown",
   "metadata": {},
   "source": [
    "### Convert excel to csv"
   ]
  },
  {
   "cell_type": "code",
   "execution_count": 46,
   "metadata": {
    "scrolled": true
   },
   "outputs": [
    {
     "name": "stdout",
     "output_type": "stream",
     "text": [
      "converting file: test-data-input-xls-mult-jan.xlsx | sheet: 0 ok\n",
      "converting file: test-data-input-xls-mult-feb.xlsx | sheet: 0 ok\n",
      "converting file: test-data-input-xls-mult-mar.xlsx | sheet: 0 ok\n",
      "['test-data/input\\\\test-data-input-xls-mult-jan.xlsx-0.csv', 'test-data/input\\\\test-data-input-xls-mult-feb.xlsx-0.csv', 'test-data/input\\\\test-data-input-xls-mult-mar.xlsx-0.csv']\n"
     ]
    }
   ],
   "source": [
    "convertor = XLStoCSVMultiFile(cfg_fnames[:3], 'idx_global', 0, logger)\n",
    "files_out = convertor.convert_all()\n",
    "print(files_out)"
   ]
  }
 ],
 "metadata": {
  "kernelspec": {
   "display_name": "Python 3",
   "language": "python",
   "name": "python3"
  },
  "language_info": {
   "codemirror_mode": {
    "name": "ipython",
    "version": 3
   },
   "file_extension": ".py",
   "mimetype": "text/x-python",
   "name": "python",
   "nbconvert_exporter": "python",
   "pygments_lexer": "ipython3",
   "version": "3.6.3"
  }
 },
 "nbformat": 4,
 "nbformat_minor": 2
}
