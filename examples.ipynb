{
 "cells": [
  {
   "cell_type": "code",
   "execution_count": 1,
   "metadata": {
    "collapsed": true
   },
   "outputs": [],
   "source": [
    "import importlib\n",
    "import pandas as pd\n",
    "import glob\n",
    "\n",
    "import d6t.stack.combine_csv as d6tc"
   ]
  },
  {
   "cell_type": "code",
   "execution_count": 2,
   "metadata": {},
   "outputs": [
    {
     "name": "stdout",
     "output_type": "stream",
     "text": [
      "['test-data/input\\\\test-data-input-csv-colmismatch-jan.csv', 'test-data/input\\\\test-data-input-csv-colmismatch-feb.csv', 'test-data/input\\\\test-data-input-csv-colmismatch-mar.csv']\n"
     ]
    }
   ],
   "source": [
    "cfg_fnames = list(glob.glob('test-data/input/test-data-input-csv-colmismatch-*.csv'))\n",
    "print(cfg_fnames)"
   ]
  },
  {
   "cell_type": "code",
   "execution_count": 3,
   "metadata": {},
   "outputs": [
    {
     "name": "stdout",
     "output_type": "stream",
     "text": [
      "{'delim': ',', 'skiprows': 0, 'has_header': True, 'header': 0}\n"
     ]
    }
   ],
   "source": [
    "# finds common csv across all files\n",
    "cfg_sniff = d6tc.sniff_settings_csv(cfg_fnames)\n",
    "print(cfg_sniff)\n"
   ]
  },
  {
   "cell_type": "code",
   "execution_count": 5,
   "metadata": {
    "collapsed": true
   },
   "outputs": [],
   "source": [
    "# get previews\n",
    "c = d6tc.CombinerCSV(cfg_fnames, all_strings=True)\n",
    "\n",
    "col_preview = c.preview_columns()"
   ]
  },
  {
   "cell_type": "code",
   "execution_count": 11,
   "metadata": {},
   "outputs": [
    {
     "name": "stdout",
     "output_type": "stream",
     "text": [
      "all columns equal? False\n",
      "\n",
      "which columns are present in which files?\n",
      "\n",
      "                                  filename  cost  date profit profit2 sales\n",
      "0  test-data-input-csv-colmismatch-feb.csv  True  True   True   False  True\n",
      "1  test-data-input-csv-colmismatch-jan.csv  True  True   True   False  True\n",
      "2  test-data-input-csv-colmismatch-mar.csv  True  True   True    True  True\n",
      "\n",
      "in what order do columns appear in the files?\n",
      "\n",
      "                                  filename cost date profit profit2 sales\n",
      "0  test-data-input-csv-colmismatch-feb.csv    2    0      3     NaN     1\n",
      "1  test-data-input-csv-colmismatch-jan.csv    2    0      3     NaN     1\n",
      "2  test-data-input-csv-colmismatch-mar.csv    2    0      3       4     1\n"
     ]
    }
   ],
   "source": [
    "print('all columns equal?', col_preview['is_all_equal'])\n",
    "print('')\n",
    "print('which columns are present in which files?')\n",
    "print('')\n",
    "print(col_preview['df_columns_present'].reset_index(drop=True))\n",
    "print('')\n",
    "print('in what order do columns appear in the files?')\n",
    "print('')\n",
    "print(col_preview['df_columns_order'].reset_index(drop=True))"
   ]
  },
  {
   "cell_type": "code",
   "execution_count": null,
   "metadata": {
    "collapsed": true
   },
   "outputs": [],
   "source": []
  }
 ],
 "metadata": {
  "kernelspec": {
   "display_name": "Python 3",
   "language": "python",
   "name": "python3"
  },
  "language_info": {
   "codemirror_mode": {
    "name": "ipython",
    "version": 3
   },
   "file_extension": ".py",
   "mimetype": "text/x-python",
   "name": "python",
   "nbconvert_exporter": "python",
   "pygments_lexer": "ipython3",
   "version": "3.6.1"
  }
 },
 "nbformat": 4,
 "nbformat_minor": 2
}
